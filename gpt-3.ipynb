{
 "cells": [
  {
   "cell_type": "code",
   "execution_count": null,
   "id": "a6894fd7",
   "metadata": {},
   "outputs": [],
   "source": [
    "import os\n",
    "import openai"
   ]
  },
  {
   "cell_type": "code",
   "execution_count": null,
   "id": "95326b01",
   "metadata": {},
   "outputs": [],
   "source": [
    "import os\n",
    "import openai\n",
    "\n",
    "openai.api_key = \"sk-frglHpdPwbW0LYut7ZI1xOMisdTv8ygDcySuHKDj\"\n",
    "\n",
    "response = openai.Completion.create(\n",
    "  engine=\"ada\",\n",
    "  prompt=\"Text: Black-on-black ware is a 20th- and 21st-century pottery tradition developed by the Puebloan Native American ceramic artists in Northern New Mexico. Traditional reduction-fired blackware has been made for centuries by pueblo artists. Black-on-black ware of the past century is produced with a smooth surface, with the designs applied through selective burnishing or the application of refractory slip. Another style involves carving or incising designs and selectively polishing the raised areas. For generations several families from Kha'po Owingeh and P'ohwhóge Owingeh pueblos have been making black-on-black ware with the techniques passed down from matriarch potters. Artists from other pueblos have also produced black-on-black ware. Several contemporary artists have created works honoring the pottery of their ancestors.\\n\\nKeywords:\",\n",
    "  temperature=0.3,\n",
    "  max_tokens=60,\n",
    "  top_p=1.0,\n",
    "  frequency_penalty=0.8,\n",
    "  presence_penalty=0.0,\n",
    "  stop=[\"\\n\"]\n",
    ")"
   ]
  },
  {
   "cell_type": "code",
   "execution_count": null,
   "id": "79f30402",
   "metadata": {},
   "outputs": [],
   "source": [
    "informal: the movie The In-Laws not exactly a holiday movie but funny and good!\n",
    "formal: The In-Laws movie isn't a holiday movie, but it's okay.\n",
    "\n",
    "informal: that page did not give me viroses(i think)\n",
    "formal: I don't think that page gave me viruses.\n",
    "\n",
    "informal: of corse i be wachin it evry day, my fav charachter is Inuasha\n",
    "formal: I watch it everyday, my favorite charachter is Inuasha.\n",
    "\n",
    "informal: id have to say mel gibson, a strong [god] beliver!!!\n",
    "formal: Mel Gibson is a strong believed of God.\n",
    "\n",
    "informal: Is he gay?He was on Late Night with Conan O'Brien and he seemed pretty gay\n",
    "formal: He was on the Late Night show with Conan O'Brien and seemed gay."
   ]
  }
 ],
 "metadata": {
  "kernelspec": {
   "display_name": "Python 3 (ipykernel)",
   "language": "python",
   "name": "python3"
  },
  "language_info": {
   "codemirror_mode": {
    "name": "ipython",
    "version": 3
   },
   "file_extension": ".py",
   "mimetype": "text/x-python",
   "name": "python",
   "nbconvert_exporter": "python",
   "pygments_lexer": "ipython3",
   "version": "3.8.2"
  }
 },
 "nbformat": 4,
 "nbformat_minor": 5
}
